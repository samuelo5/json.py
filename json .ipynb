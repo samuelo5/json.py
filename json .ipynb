{
 "cells": [
  {
   "cell_type": "code",
   "execution_count": 3,
   "id": "a57c7e1f-ab1b-4155-ad7e-dad46b233167",
   "metadata": {},
   "outputs": [
    {
     "name": "stdout",
     "output_type": "stream",
     "text": [
      "<class 'dict'>\n",
      "David Doe\n",
      "{'Father': 'John Doe', 'Mother': 'Marry Doe'}\n",
      "True\n"
     ]
    }
   ],
   "source": [
    "import json\n",
    "\n",
    "data = '{\"Name\": \"David Doe\", \"Age\": 25, \"Hobby\": [\"Basketball\"],\\\n",
    "\"Family\": {\"Father\": \"John Doe\", \"Mother\": \"Marry Doe\"}, \"Married\": true}'\n",
    "\n",
    "json_data = json.loads(data)\n",
    "\n",
    "print(type(json_data))\n",
    "print(json_data['Name'])\n",
    "print(json_data['Family'])\n",
    "print(json_data['Married'])"
   ]
  },
  {
   "cell_type": "code",
   "execution_count": 5,
   "id": "e72839ad-59ea-477e-b3a2-f29cbc8207ff",
   "metadata": {},
   "outputs": [
    {
     "name": "stdout",
     "output_type": "stream",
     "text": [
      "<class 'dict'>\n",
      "The Old Man at the sea\n",
      "12345\n",
      "Ernest Hemingway\n"
     ]
    }
   ],
   "source": [
    "import json\n",
    "\n",
    "data = '{\"title\": \"The Old Man at the sea\", \"ISBN\": \"12345\", \"Author\": \"Ernest Hemingway\"}'\n",
    "json_data = json.loads(data)\n",
    "\n",
    "print(type(json_data))\n",
    "print(json_data['title'])\n",
    "print(json_data['ISBN'])\n",
    "print(json_data['Author'])"
   ]
  },
  {
   "cell_type": "code",
   "execution_count": 12,
   "id": "ab50ab03-e65e-4821-aba7-9fbfc7de69d1",
   "metadata": {},
   "outputs": [],
   "source": [
    "import json\n",
    "\n",
    "data = '{\"title\": \"The Old Man at the sea\", \"ISBN\": \"12345\", \"Author\": \"Er\"}'\n",
    "json_data = json.loads(data)\n",
    "\n",
    "# Code to create json_data as book.json file \n",
    "with open('book.docks', 'w') as f: # it uses docks\n",
    "    json.dump(json_data, f, indent='\\t')"
   ]
  },
  {
   "cell_type": "code",
   "execution_count": 12,
   "id": "0ba1d7c9-a3c7-460e-86c6-fb2897dcd069",
   "metadata": {},
   "outputs": [],
   "source": [
    "import json\n",
    "\n",
    "data = '{\"title\": \"The Old Man at the sea\", \"ISBN\": \"12345\", \"Author\": \"Er\"}'\n",
    "json_data = json.loads(data)\n",
    "\n",
    "# Code to create json_data as book.json file \n",
    "with open('book.json', 'w') as f: # it uses json\n",
    "    json.dump(json_data, f, indent='\\t')"
   ]
  },
  {
   "cell_type": "code",
   "execution_count": 2,
   "id": "e540c609-9505-43ac-aaa8-26de22e8ef7a",
   "metadata": {},
   "outputs": [
    {
     "name": "stdout",
     "output_type": "stream",
     "text": [
      "<class 'dict'>\n",
      "Alice\n",
      "25\n"
     ]
    }
   ],
   "source": [
    "# 1 Convert a dictonary to a json string\n",
    "import json\n",
    "\n",
    "data = '{\"name\": \"Alice\", \"age\": \"25\"}'\n",
    "\n",
    "json_data = json.loads(data)\n",
    "\n",
    "print(type(json_data))\n",
    "print(json_data['name'])\n",
    "print(json_data['age'])\n"
   ]
  },
  {
   "cell_type": "code",
   "execution_count": 3,
   "id": "af9e08c4-b4d2-4d5d-9b13-5a810dc34b92",
   "metadata": {},
   "outputs": [
    {
     "name": "stdout",
     "output_type": "stream",
     "text": [
      "<class 'dict'>\n",
      "Bob\n"
     ]
    }
   ],
   "source": [
    "# 2 Parse a json string\n",
    "import json\n",
    "\n",
    "import json\n",
    "\n",
    "data = '{\"name\": \"Bob\", \"age\": \"30\"}'\n",
    "\n",
    "json_data = json.loads(data)\n",
    "\n",
    "print(type(json_data))\n",
    "print(json_data['name'])"
   ]
  },
  {
   "cell_type": "code",
   "execution_count": 4,
   "id": "cfb216fd-32a7-496c-86e4-378651586826",
   "metadata": {},
   "outputs": [],
   "source": [
    "# 3 Write a json to a file\n",
    "import json\n",
    "\n",
    "data = '{\"name\": \"Alice\", \"age\": \"25\"}'\n",
    "\n",
    "json_data = json.loads(data)\n",
    "\n",
    "with open('book.json', 'w') as f: # it uses json\n",
    "    json.dump(json_data, f, indent='\\t')"
   ]
  },
  {
   "cell_type": "code",
   "execution_count": null,
   "id": "94dc956f-044a-4cc5-88e6-63f3bc4dc638",
   "metadata": {},
   "outputs": [],
   "source": []
  }
 ],
 "metadata": {
  "kernelspec": {
   "display_name": "Python 3 (ipykernel)",
   "language": "python",
   "name": "python3"
  },
  "language_info": {
   "codemirror_mode": {
    "name": "ipython",
    "version": 3
   },
   "file_extension": ".py",
   "mimetype": "text/x-python",
   "name": "python",
   "nbconvert_exporter": "python",
   "pygments_lexer": "ipython3",
   "version": "3.11.7"
  }
 },
 "nbformat": 4,
 "nbformat_minor": 5
}
